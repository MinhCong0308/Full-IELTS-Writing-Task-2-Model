{
 "cells": [
  {
   "cell_type": "code",
   "execution_count": 1,
   "id": "85760561",
   "metadata": {},
   "outputs": [],
   "source": [
    "from transformers import AutoTokenizer, AutoModelForSeq2SeqLM"
   ]
  },
  {
   "cell_type": "code",
   "execution_count": 2,
   "id": "09c72205",
   "metadata": {},
   "outputs": [],
   "source": [
    "model_path = './checkpoint-12300'\n",
    "model = AutoModelForSeq2SeqLM.from_pretrained(model_path)\n",
    "tokenizer = AutoTokenizer.from_pretrained(model_path)"
   ]
  },
  {
   "cell_type": "code",
   "execution_count": 3,
   "id": "ffa70a58",
   "metadata": {},
   "outputs": [],
   "source": [
    "import torch"
   ]
  },
  {
   "cell_type": "code",
   "execution_count": 4,
   "id": "afce6dad",
   "metadata": {},
   "outputs": [],
   "source": [
    "device = \"cuda\" if torch.cuda.is_available() else \"cpu\"\n",
    "def generateEvaluation(question_text, answer_text, band_score, max_length = 512):\n",
    "    input_text = f\"With the question {question_text} and the responsible essay: {answer_text} with evaluated band score {band_score}, please write a detailed evaluation based on four apects: 'Task Achievement', 'Coherence and Cohesion', 'Lexical Resource', 'Grammatical Range And Accuracy'\"\n",
    "    input_ids = tokenizer(input_text, return_tensors=\"pt\").input_ids.to(device)\n",
    "    output_ids = model.generate(\n",
    "        input_ids,\n",
    "        max_length=max_length,\n",
    "        num_beams=5,\n",
    "        no_repeat_ngram_size=4,  # To prevent repetition\n",
    "        early_stopping=True,\n",
    "        temperature=0.5,  # For controlled creativity\n",
    "        top_p=0.5,        # Top-p sampling\n",
    "        top_k=50,         # Top-k sampling\n",
    "        do_sample=True    # Enable sampling\n",
    "    )\n",
    "    \n",
    "    generated_text = tokenizer.decode(output_ids[0], skip_special_tokens=True)\n",
    "    return generated_text\n",
    "\n"
   ]
  },
  {
   "cell_type": "code",
   "execution_count": 5,
   "id": "c67031a7",
   "metadata": {},
   "outputs": [],
   "source": [
    "band_score = 6.5\n",
    "question_text = \"Young people are often influenced in their behaviours by others in the same age group. Some argue that peer pressure is important while others feel it has distinct disadvantages. Do the disadvantages of peer pressure outweigh the advantages?\"\n",
    "answer_text = (\n",
    "    \"In this day and age, peer pressure is considered as one of the most important factors affecting young people's behaviour. \"\n",
    "    \"However, in this essay, I will discuss both advantages and disadvantages of this phenomenon.\\n\\n\"\n",
    "    \"On the one hand, there are several drawbacks of peer pressure. To begin with, peer pressure can have a negative impact on young people. \"\n",
    "    \"For example, if young people are affected by peer pressure, they may not be able to concentrate on their studies. As a result, they may be distracted from their studies. \"\n",
    "    \"Moreover, young people may be influenced by other people whom they do not know. For instance, young people who are not well-prepared can be affected by other people who do not know them. \"\n",
    "    \"Consequently, young people might be influenced by others who do not have enough knowledge.\\n\\n\"\n",
    "    \"However, I believe that the advantages of peer pressure are more significant than the disadvantages. The first advantage is that peer pressure can improve young people's self-esteem. \"\n",
    "    \"This is because peer pressure can increase the confidence of young people. Furthermore, young people can learn how to deal with peer pressure. \"\n",
    "    \"As a consequence, young people will be able to cope with their peer pressure.\\n\\n\"\n",
    "    \"In conclusion, although there are some disadvantages for peer pressure, I think that the benefits of this phenomenon outweigh the disadvantages. \"\n",
    "    \"It is recommended that young people should be encouraged to learn how to handle peer pressure. In addition, young people should focus on their studies in order to avoid being influenced by other young people. \"\n",
    "    \"This will help them to reduce their peer pressure and improve their self-esteem in the long run.\"\n",
    ")\n",
    "generated_text = generateEvaluation(question_text, answer_text, band_score)"
   ]
  },
  {
   "cell_type": "code",
   "execution_count": 6,
   "id": "788f42b7",
   "metadata": {},
   "outputs": [
    {
     "data": {
      "text/plain": [
       "'**Task Achievement:** - The candidate has effectively addressed the given task by discussing both the advantages and disadvantages of peer pressure. - The ideas presented are clear, relevant, and coherent, demonstrating a good understanding of the topic. - All aspects of the task have been adequately covered and supported with appropriate arguments and evidence. - Overall, the candidate has fulfilled the requirements of the task. - Suggested Band Score: 7.0 **Coherence and Cohesion:** The essay is well-organized and easy to follow. - Transitions between sentences and paragraphs are clear and effective, maintaining a smooth progression of ideas. - Connecting words and phrases are used effectively to maintain coherence. - Information is presented in a logical sequence, making it easy for the reader to follow the argument. - However, there are a few instances where the transitions could be improved to enhance the overall coherence and cohesion of the text. - **Mistakes and Rectifications**: - \"In this day and age, peer pressure is considered as one of the most important factors affecting young people\\'s behaviour\" - \"As a result, they may be distracted from their studies.\" - \"Moreover, young people may be influenced by other people whom they do not know.\" - The use of punctuation and sentence formation is generally accurate, but there are some instances where commas could be used more effectively to enhance the flow of the essay. - \"For instance, young people who are not well-prepared can be affected by other people who do not know them.\" - **Rectifications:** The candidate has used a variety of sentence structures, including complex and compound sentences. - There are some minor grammatical errors, such as the use of \"may not be able to concentrate on their studies\" and the missing comma after \"For instance\" in the second paragraph. - Punctuation is generally correct, but there is room for improvement in the use of commas to enhance the clarity and coherence of the text, as well as the correction of apostrophes and rectifications.'"
      ]
     },
     "execution_count": 6,
     "metadata": {},
     "output_type": "execute_result"
    }
   ],
   "source": [
    "generated_text"
   ]
  },
  {
   "cell_type": "code",
   "execution_count": null,
   "id": "6f57f9e2",
   "metadata": {},
   "outputs": [],
   "source": []
  }
 ],
 "metadata": {
  "kernelspec": {
   "display_name": "Python 3",
   "language": "python",
   "name": "python3"
  },
  "language_info": {
   "codemirror_mode": {
    "name": "ipython",
    "version": 3
   },
   "file_extension": ".py",
   "mimetype": "text/x-python",
   "name": "python",
   "nbconvert_exporter": "python",
   "pygments_lexer": "ipython3",
   "version": "3.11.5"
  }
 },
 "nbformat": 4,
 "nbformat_minor": 5
}
