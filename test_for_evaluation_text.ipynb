{
 "cells": [
  {
   "cell_type": "code",
   "execution_count": 1,
   "id": "85760561",
   "metadata": {},
   "outputs": [],
   "source": [
    "from transformers import AutoTokenizer, AutoModelForSeq2SeqLM"
   ]
  },
  {
   "cell_type": "code",
   "execution_count": 2,
   "id": "09c72205",
   "metadata": {},
   "outputs": [],
   "source": [
    "model_path = './checkpoint-12300'\n",
    "model = AutoModelForSeq2SeqLM.from_pretrained(model_path)\n",
    "tokenizer = AutoTokenizer.from_pretrained(model_path)"
   ]
  },
  {
   "cell_type": "code",
   "execution_count": 3,
   "id": "ffa70a58",
   "metadata": {},
   "outputs": [],
   "source": [
    "import torch"
   ]
  },
  {
   "cell_type": "code",
   "execution_count": 4,
   "id": "afce6dad",
   "metadata": {},
   "outputs": [],
   "source": [
    "device = \"cuda\" if torch.cuda.is_available() else \"cpu\"\n",
    "def generateEvaluation(question_text, answer_text, band_score, band_tr, band_cc, band_lr, band_gr, max_length = 512):\n",
    "    input_text = f\"With the question {question_text} and the responsible essay: {answer_text} with evaluated band score {band_score}, please write a detailed evaluation based on four apects: 'Task Achievement' : {band_tr}, 'Coherence and Cohesion': {band_cc}, 'Lexical Resource': {band_lr}, 'Grammatical Range And Accuracy': {band_gr}\"\n",
    "    input_ids = tokenizer(input_text, return_tensors=\"pt\").input_ids.to(device)\n",
    "    output_ids = model.generate(\n",
    "        input_ids,\n",
    "        max_length=max_length,\n",
    "        num_beams=5,\n",
    "        no_repeat_ngram_size=4,  # To prevent repetition\n",
    "        early_stopping=True,\n",
    "        temperature=0.5,  # For controlled creativity\n",
    "        top_p=0.5,        # Top-p sampling\n",
    "        top_k=50,         # Top-k sampling\n",
    "        do_sample=True    # Enable sampling\n",
    "    )\n",
    "    \n",
    "    generated_text = tokenizer.decode(output_ids[0], skip_special_tokens=True)\n",
    "    return generated_text\n",
    "\n"
   ]
  },
  {
   "cell_type": "code",
   "execution_count": 5,
   "id": "c67031a7",
   "metadata": {},
   "outputs": [],
   "source": [
    "band_score = 6.5\n",
    "band_tr = 6.0\n",
    "band_cc = 6.5\n",
    "band_lr = 6.0\n",
    "band_gr = 6.5\n",
    "question_text = \"Young people are often influenced in their behaviours by others in the same age group. Some argue that peer pressure is important while others feel it has distinct disadvantages. Do the disadvantages of peer pressure outweigh the advantages?\"\n",
    "answer_text = (\n",
    "    \"In this day and age, peer pressure is considered as one of the most important factors affecting young people's behaviour. \"\n",
    "    \"However, in this essay, I will discuss both advantages and disadvantages of this phenomenon.\\n\\n\"\n",
    "    \"On the one hand, there are several drawbacks of peer pressure. To begin with, peer pressure can have a negative impact on young people. \"\n",
    "    \"For example, if young people are affected by peer pressure, they may not be able to concentrate on their studies. As a result, they may be distracted from their studies. \"\n",
    "    \"Moreover, young people may be influenced by other people whom they do not know. For instance, young people who are not well-prepared can be affected by other people who do not know them. \"\n",
    "    \"Consequently, young people might be influenced by others who do not have enough knowledge.\\n\\n\"\n",
    "    \"However, I believe that the advantages of peer pressure are more significant than the disadvantages. The first advantage is that peer pressure can improve young people's self-esteem. \"\n",
    "    \"This is because peer pressure can increase the confidence of young people. Furthermore, young people can learn how to deal with peer pressure. \"\n",
    "    \"As a consequence, young people will be able to cope with their peer pressure.\\n\\n\"\n",
    "    \"In conclusion, although there are some disadvantages for peer pressure, I think that the benefits of this phenomenon outweigh the disadvantages. \"\n",
    "    \"It is recommended that young people should be encouraged to learn how to handle peer pressure. In addition, young people should focus on their studies in order to avoid being influenced by other young people. \"\n",
    "    \"This will help them to reduce their peer pressure and improve their self-esteem in the long run.\"\n",
    ")\n",
    "generated_text = generateEvaluation(question_text, answer_text, band_score, band_tr, band_cc, band_lr, band_gr)"
   ]
  },
  {
   "cell_type": "code",
   "execution_count": 6,
   "id": "788f42b7",
   "metadata": {},
   "outputs": [
    {
     "data": {
      "text/plain": [
       "'**Task Achievement:** - The candidate has adequately addressed the given task by discussing both the advantages and disadvantages of peer pressure. - The ideas presented are relevant to the task and support the candidate\\'s position. - However, the essay lacks depth and fails to fully explore all aspects of the task. - Suggested Band Score: 6 **Coherence and Cohesion:** The essay lacks coherence and cohesion. - Transitions between sentences and paragraphs are not smooth, making it difficult for the reader to follow the flow of ideas. - Connecting words and phrases are used sparingly, resulting in a disjointed flow of information. - There is a lack of logical sequence and arrangement of information, which affects the overall coherence of the text. - **Lexical Resource (Vocabulary):** The candidate demonstrates a limited range of vocabulary, with some inaccuracies and overuse of certain words. - For example, the candidate uses the word \"influenced\" instead of \"influenced.\" - The vocabulary used is generally appropriate for the context, but there are a few instances where the candidate could have used more precise or varied vocabulary. **Grammatical Range and Accuracy:** The sentence structures are generally simple and lack variety. - Some grammatical errors are present, such as incorrect verb forms (e.g., \"may not be able to concentrate on their studies\"). - The use of punctuation and sentence formation is generally correct. **Overall Band Score:** Considering the holistic performance across all criteria, the overall band score for this essay is **6.5**. The essay adequately addresses the task, but lacks depth, coherence, and accuracy. - With further refinement and refinement, the candidate could achieve a higher band score.'"
      ]
     },
     "execution_count": 6,
     "metadata": {},
     "output_type": "execute_result"
    }
   ],
   "source": [
    "generated_text"
   ]
  },
  {
   "cell_type": "code",
   "execution_count": null,
   "id": "6f57f9e2",
   "metadata": {},
   "outputs": [],
   "source": []
  }
 ],
 "metadata": {
  "kernelspec": {
   "display_name": "Python 3",
   "language": "python",
   "name": "python3"
  },
  "language_info": {
   "codemirror_mode": {
    "name": "ipython",
    "version": 3
   },
   "file_extension": ".py",
   "mimetype": "text/x-python",
   "name": "python",
   "nbconvert_exporter": "python",
   "pygments_lexer": "ipython3",
   "version": "3.11.5"
  }
 },
 "nbformat": 4,
 "nbformat_minor": 5
}
