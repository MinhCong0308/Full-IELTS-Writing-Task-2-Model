{
 "cells": [
  {
   "cell_type": "code",
   "execution_count": 1,
   "id": "60f7ce39",
   "metadata": {},
   "outputs": [],
   "source": [
    "from transformers import AutoTokenizer, AutoModelForSequenceClassification"
   ]
  },
  {
   "cell_type": "code",
   "execution_count": 2,
   "id": "79dae5c9",
   "metadata": {},
   "outputs": [],
   "source": [
    "checkpoint_path = \"./eval_score\"\n",
    "\n",
    "# Load the tokenizer\n",
    "tokenizer = AutoTokenizer.from_pretrained(checkpoint_path)\n",
    "\n",
    "# Load the model\n",
    "model = AutoModelForSequenceClassification.from_pretrained(checkpoint_path)"
   ]
  },
  {
   "cell_type": "code",
   "execution_count": 3,
   "id": "731507c0",
   "metadata": {},
   "outputs": [],
   "source": [
    "import torch\n",
    "device = \"cuda\" if torch.cuda.is_available() else \"cpu\""
   ]
  },
  {
   "cell_type": "code",
   "execution_count": 4,
   "id": "3cc93a14",
   "metadata": {},
   "outputs": [
    {
     "data": {
      "text/plain": [
       "'cpu'"
      ]
     },
     "execution_count": 4,
     "metadata": {},
     "output_type": "execute_result"
    }
   ],
   "source": [
    "device"
   ]
  },
  {
   "cell_type": "code",
   "execution_count": 8,
   "id": "ac3cd338",
   "metadata": {},
   "outputs": [],
   "source": [
    "id2label = {0: 3.0,\n",
    " 1: 4.0,\n",
    " 2: 4.5,\n",
    " 3: 5.0,\n",
    " 4: 5.5,\n",
    " 5: 6.0,\n",
    " 6: 6.5,\n",
    " 7: 7.0,\n",
    " 8: 7.5,\n",
    " 9: 8.0,\n",
    " 10: 8.5,\n",
    " 11: 9.0}\n"
   ]
  },
  {
   "cell_type": "code",
   "execution_count": null,
   "id": "31d946d1",
   "metadata": {},
   "outputs": [],
   "source": [
    "model.to(device)\n",
    "def predictScore(question_text: str, answer_text: str):\n",
    "    merged = question_text + tokenizer.sep_token + answer_text\n",
    "\n",
    "    enc = tokenizer(\n",
    "        merged,\n",
    "        max_length=512,\n",
    "        truncation=True,\n",
    "        return_tensors=\"pt\"  \n",
    "    )\n",
    "    enc = {k: v.to(device) for k, v in enc.items()}\n",
    "\n",
    "    model.eval()\n",
    "    with torch.no_grad():\n",
    "        logits = model(**enc).logits.squeeze(0)   \n",
    "\n",
    "    probs   = torch.softmax(logits, dim=-1).cpu().numpy()\n",
    "    pred_id = int(probs.argmax())\n",
    "\n",
    "    pred_label = id2label[pred_id]\n",
    "\n",
    "    return pred_label, probs\n"
   ]
  },
  {
   "cell_type": "code",
   "execution_count": 20,
   "id": "06d2718a",
   "metadata": {},
   "outputs": [],
   "source": [
    "question_text = \"Young people are often influenced in their behaviours by others in the same age group. Some argue that peer pressure is important while others feel it has distinct disadvantages. Do the disadvantages of peer pressure outweigh the advantages?\"\n",
    "answer_text = (\n",
    "    \"In this day and age, peer pressure is considered as one of the most important factors affecting young people's behaviour. \"\n",
    "    \"However, in this essay, I will discuss both advantages and disadvantages of this phenomenon.\\n\\n\"\n",
    "    \"On the one hand, there are several drawbacks of peer pressure. To begin with, peer pressure can have a negative impact on young people. \"\n",
    "    \"For example, if young people are affected by peer pressure, they may not be able to concentrate on their studies. As a result, they may be distracted from their studies. \"\n",
    "    \"Moreover, young people may be influenced by other people whom they do not know. For instance, young people who are not well-prepared can be affected by other people who do not know them. \"\n",
    "    \"Consequently, young people might be influenced by others who do not have enough knowledge.\\n\\n\"\n",
    "    \"However, I believe that the advantages of peer pressure are more significant than the disadvantages. The first advantage is that peer pressure can improve young people's self-esteem. \"\n",
    "    \"This is because peer pressure can increase the confidence of young people. Furthermore, young people can learn how to deal with peer pressure. \"\n",
    "    \"As a consequence, young people will be able to cope with their peer pressure.\\n\\n\"\n",
    "    \"In conclusion, although there are some disadvantages for peer pressure, I think that the benefits of this phenomenon outweigh the disadvantages. \"\n",
    "    \"It is recommended that young people should be encouraged to learn how to handle peer pressure. In addition, young people should focus on their studies in order to avoid being influenced by other young people. \"\n",
    "    \"This will help them to reduce their peer pressure and improve their self-esteem in the long run.\"\n",
    ")\n",
    "\n",
    "score, probs = predictScore(question_text, answer_text)"
   ]
  },
  {
   "cell_type": "code",
   "execution_count": 21,
   "id": "82cc0864",
   "metadata": {},
   "outputs": [
    {
     "data": {
      "text/plain": [
       "6.5"
      ]
     },
     "execution_count": 21,
     "metadata": {},
     "output_type": "execute_result"
    }
   ],
   "source": [
    "score"
   ]
  },
  {
   "cell_type": "code",
   "execution_count": 22,
   "id": "951639fa",
   "metadata": {},
   "outputs": [
    {
     "data": {
      "text/plain": [
       "array([1.1242753e-03, 1.6248821e-03, 8.0788095e-04, 9.7372878e-04,\n",
       "       8.5943807e-03, 2.3198539e-01, 5.7853591e-01, 1.7079853e-01,\n",
       "       4.1896510e-03, 5.0606049e-04, 2.7653226e-04, 5.8280176e-04],\n",
       "      dtype=float32)"
      ]
     },
     "execution_count": 22,
     "metadata": {},
     "output_type": "execute_result"
    }
   ],
   "source": [
    "probs"
   ]
  },
  {
   "cell_type": "code",
   "execution_count": null,
   "id": "69f1d633",
   "metadata": {},
   "outputs": [],
   "source": []
  }
 ],
 "metadata": {
  "kernelspec": {
   "display_name": "Python 3",
   "language": "python",
   "name": "python3"
  },
  "language_info": {
   "codemirror_mode": {
    "name": "ipython",
    "version": 3
   },
   "file_extension": ".py",
   "mimetype": "text/x-python",
   "name": "python",
   "nbconvert_exporter": "python",
   "pygments_lexer": "ipython3",
   "version": "3.11.5"
  }
 },
 "nbformat": 4,
 "nbformat_minor": 5
}
