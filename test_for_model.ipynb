{
 "cells": [
  {
   "cell_type": "code",
   "execution_count": 1,
   "id": "d66ed22c",
   "metadata": {},
   "outputs": [],
   "source": [
    "from transformers import AutoModelForCausalLM, AutoTokenizer"
   ]
  },
  {
   "cell_type": "code",
   "execution_count": 2,
   "id": "857897ba",
   "metadata": {},
   "outputs": [],
   "source": [
    "checkpoint_path = \"./gpt_ielts/checkpoint-8170\"\n",
    "\n",
    "# Load the tokenizer\n",
    "tokenizer = AutoTokenizer.from_pretrained(checkpoint_path)\n",
    "\n",
    "# Load the model\n",
    "model = AutoModelForCausalLM.from_pretrained(checkpoint_path)"
   ]
  },
  {
   "cell_type": "code",
   "execution_count": 3,
   "id": "f47517b5",
   "metadata": {},
   "outputs": [],
   "source": [
    "import torch"
   ]
  },
  {
   "cell_type": "code",
   "execution_count": 4,
   "id": "0e09866d",
   "metadata": {},
   "outputs": [],
   "source": [
    "device = \"cuda\" if torch.cuda.is_available() else \"cpu\"\n"
   ]
  },
  {
   "cell_type": "code",
   "execution_count": 5,
   "id": "f5d09361",
   "metadata": {},
   "outputs": [],
   "source": [
    "def generate_ielts_essay(question, overall, max_length=512):\n",
    "    model.eval()\n",
    "    input_text = f\"Prompt: {question} | Score: {overall}\\n\"\n",
    "    # print(input_text)\n",
    "    # Tokenize the input text\n",
    "    input_ids = tokenizer(input_text, return_tensors=\"pt\").input_ids.to(device)\n",
    "    \n",
    "    # Generate the essay using the model\n",
    "    output_ids = model.generate(\n",
    "        input_ids,\n",
    "        max_length=380,\n",
    "        num_beams=10,\n",
    "        no_repeat_ngram_size=4,  # To prevent repetition\n",
    "        early_stopping=True,\n",
    "        repetition_penalty = 1.25,\n",
    "        temperature=0.75,  # For controlled creativity\n",
    "        top_p=0.75,        # Top-p sampling\n",
    "        top_k=50,         # Top-k sampling\n",
    "        do_sample=True    # Enable sampling\n",
    "    )\n",
    "    \n",
    "    generated_text = tokenizer.decode(output_ids[0], skip_special_tokens=True)\n",
    "    return generated_text\n"
   ]
  },
  {
   "cell_type": "code",
   "execution_count": 6,
   "id": "43c69112",
   "metadata": {},
   "outputs": [
    {
     "name": "stderr",
     "output_type": "stream",
     "text": [
      "The attention mask and the pad token id were not set. As a consequence, you may observe unexpected behavior. Please pass your input's `attention_mask` to obtain reliable results.\n",
      "Setting `pad_token_id` to `eos_token_id`:None for open-end generation.\n",
      "The attention mask is not set and cannot be inferred from input because pad token is same as eos token. As a consequence, you may observe unexpected behavior. Please pass your input's `attention_mask` to obtain reliable results.\n"
     ]
    },
    {
     "name": "stdout",
     "output_type": "stream",
     "text": [
      "Generated Essay:\n",
      " Prompt: Some people believe that governments should invest more in public transport. To what extent do you agree or disagree? | Score: 7.0\n",
      "Essay: It is argued that the authorities should invest more money in the public transport system. I completely agree with this statement.\n",
      "\n",
      "On the one hand, there are a number of reasons why governments should invest money in public transport systems. The first reason is that public transport can improve people’s quality of life. For example, people can use public transportation such as buses or subways to commute from home to work or from work to city centre. In addition, public transport can also reduce traffic congestion. This is because public transport can increase the number of vehicles on the road and reduce the number of cars on the street.\n",
      " \n",
      "Another point to consider is that public transportation can have a huge impact on the economy of the country. In other words, people can buy public transportation like cars or motorbikes for their daily needs. As a result, the quality of the public transportation can be improved. For instance, people can travel to work or study without having to take public transportation to work. Furthermore, public transportation can improve the safety of citizens. It is well-known that people are more likely to commit crimes if they are not wearing helmets. \n",
      " \n",
      "In conclusion, there are some benefits of investing more money in public transportation systems. However, I think that governments should focus on public transport systems to improve the quality of life for their citizens. In the future, more money should be spent on improving public transport systems rather than investing in private vehicles. Also, governments should invest in improving the economy of their countries.\n",
      "\n",
      "To begin with, public transport systems can improve people's quality of life in many ways. Firstly, it can reduce traffic congestion and also improve the economy\n"
     ]
    }
   ],
   "source": [
    "sample_question = \"Some people believe that governments should invest more in public transport. To what extent do you agree or disagree?\"\n",
    "sample_overall = \"7.0\"  # For example, if you want to condition on a score of 7\n",
    "\n",
    "print(\"Generated Essay:\\n\", generate_ielts_essay(sample_question, sample_overall))"
   ]
  },
  {
   "cell_type": "code",
   "execution_count": 9,
   "id": "28962a38",
   "metadata": {},
   "outputs": [
    {
     "name": "stderr",
     "output_type": "stream",
     "text": [
      "The attention mask and the pad token id were not set. As a consequence, you may observe unexpected behavior. Please pass your input's `attention_mask` to obtain reliable results.\n",
      "Setting `pad_token_id` to `eos_token_id`:None for open-end generation.\n"
     ]
    },
    {
     "name": "stdout",
     "output_type": "stream",
     "text": [
      "Generating essay for score: 6.0\n"
     ]
    },
    {
     "name": "stderr",
     "output_type": "stream",
     "text": [
      "The attention mask and the pad token id were not set. As a consequence, you may observe unexpected behavior. Please pass your input's `attention_mask` to obtain reliable results.\n",
      "Setting `pad_token_id` to `eos_token_id`:None for open-end generation.\n"
     ]
    },
    {
     "name": "stdout",
     "output_type": "stream",
     "text": [
      "Prompt: Young people are often influenced in their behaviours by others in the same age group. Some argue that peer pressure is important while others feel it has distinct disadvantages. Do the disadvantages of peer pressure outweigh the advantages? | Score: 6.0\n",
      "Essay: In this day and age, peer pressure is considered as one of the most important factors affecting young people's behaviour. However, in this essay, I will discuss both advantages and disadvantages of this phenomenon.\n",
      "\n",
      "On the one hand, there are several drawbacks of peer pressure. To begin with, peer pressure can have a negative impact on young people. For example, if young people are affected by peer pressure, they may not be able to concentrate on their studies. As a result, they may be distracted from their studies. Moreover, young people may be influenced by other people whom they do not know. For instance, young people who are not well-prepared can be affected by other people who do not know them. Consequently, young people might be influenced by others who do not have enough knowledge.\n",
      "However, I believe that the advantages of peer pressure are more significant than the disadvantages. The first advantage is that peer pressure can improve young people's self-esteem. This is because peer pressure can increase the confidence of young people. Furthermore, young people can learn how to deal with peer pressure. As a consequence, young people will be able to cope with their peer pressure. \n",
      "In conclusion, although there are some disadvantages for peer pressure, I think that the benefits of this phenomenon outweigh the disadvantages. It is recommended that young people should be encouraged to learn how to handle peer pressure. In addition, young people should focus on their studies in order to avoid being influenced by other young people. This will help them to reduce their peer pressure and improve their self-esteem in the long run.\n",
      "Generating essay for score: 6.5\n"
     ]
    },
    {
     "name": "stderr",
     "output_type": "stream",
     "text": [
      "The attention mask and the pad token id were not set. As a consequence, you may observe unexpected behavior. Please pass your input's `attention_mask` to obtain reliable results.\n",
      "Setting `pad_token_id` to `eos_token_id`:None for open-end generation.\n"
     ]
    },
    {
     "name": "stdout",
     "output_type": "stream",
     "text": [
      "Prompt: Young people are often influenced in their behaviours by others in the same age group. Some argue that peer pressure is important while others feel it has distinct disadvantages. Do the disadvantages of peer pressure outweigh the advantages? | Score: 6.5\n",
      "Essay: It is often argued that young people are influenced by others' behaviours in the same way as they are by others' peer pressure. However, in this essay, I will discuss why this is not the case.\n",
      "\n",
      "There are several reasons why young people are affected by peer pressure. Firstly, young people tend to be influenced by external factors such as peer groups and social media. For example, when young people are exposed to inappropriate content on social media, they tend to share it with their friends and family members. As a result, this leads to peer pressure among young people. Secondly, young people are more likely to be victims of peer violence. For instance, young people who are abused or neglected by their parents, teachers or peers may have a higher chance of being killed by their peers than young people who were not abused or neglected. This leads to the fact that young people who have been abused or neglected are at higher risk of being victims of peer pressure than those who are not abused or neglected.\n",
      "On the other hand, there are some benefits of peer pressure. The first benefit is that young people can improve their communication skills. This is because young people learn how to communicate with their peers and get to know each other easily. Furthermore, young people can develop a sense of belonging to their peers. This means that when young people feel like they belong to their peers, they will be more likely to share ideas with them and make suggestions to solve problems in their life. Another benefit is that peer pressure can reduce the number of crimes committed by young people. This can be seen in the number of serious\n",
      "Generating essay for score: 7.0\n"
     ]
    },
    {
     "name": "stderr",
     "output_type": "stream",
     "text": [
      "The attention mask and the pad token id were not set. As a consequence, you may observe unexpected behavior. Please pass your input's `attention_mask` to obtain reliable results.\n",
      "Setting `pad_token_id` to `eos_token_id`:None for open-end generation.\n"
     ]
    },
    {
     "name": "stdout",
     "output_type": "stream",
     "text": [
      "Prompt: Young people are often influenced in their behaviours by others in the same age group. Some argue that peer pressure is important while others feel it has distinct disadvantages. Do the disadvantages of peer pressure outweigh the advantages? | Score: 7.0\n",
      "Essay: In this day and age, peer pressure is considered as one of the most important factors affecting young people's behaviours. However, there are some drawbacks to this phenomenon. \n",
      "\n",
      "On the one hand, there are a number of reasons why young people are affected by peer pressure. Firstly, it is believed that peer pressure can have a negative impact on young people's life. For example, if young people do not get enough support from their parents or teachers, they might not be able to cope up with their peers. Secondly, peer pressure can be a source of stress for young people. For instance, when young people are exposed to peer pressure, they may feel stressed because they do not have enough time to focus on their studies. Finally, young people may be influenced by peer pressure more than other factors. To illustrate this point, a recent study conducted by the University of Columbia shows that peer pressure has a negative effect on students' behaviour.\n",
      "However, there are also some disadvantages to peer pressure. One of the main disadvantages is that young people may not be mature enough to deal with peer pressure. This is because young people may lack the ability to handle peer pressure. Another disadvantage is that peer pressure may affect young people's social skills. Young people may learn how to interact with other people and how to communicate with each other. A recent study shows that young people who are good at communication tend to have more social skills than those who are bad at them.\n",
      "\n",
      "To sum up, peer pressure has both positive and negative effects on young people. However, the benefits of this phenomenon should not be underestimated\n",
      "Generating essay for score: 7.5\n"
     ]
    },
    {
     "name": "stderr",
     "output_type": "stream",
     "text": [
      "The attention mask and the pad token id were not set. As a consequence, you may observe unexpected behavior. Please pass your input's `attention_mask` to obtain reliable results.\n",
      "Setting `pad_token_id` to `eos_token_id`:None for open-end generation.\n"
     ]
    },
    {
     "name": "stdout",
     "output_type": "stream",
     "text": [
      "Prompt: Young people are often influenced in their behaviours by others in the same age group. Some argue that peer pressure is important while others feel it has distinct disadvantages. Do the disadvantages of peer pressure outweigh the advantages? | Score: 7.5\n",
      "Essay: It is often argued that young people are influenced by others' behaviours in the same way as they are by others' peer pressure. In this essay, I will discuss both the advantages and disadvantages of this perspective.\n",
      "\n",
      "On the one hand, there are a number of reasons why young people are affected by peer pressure. Firstly, young people are more likely to be influenced by external factors such as peer groups and peers. For example, when young people are exposed to peer groups, they tend to associate themselves with those groups which are superior to them. As a result, this leads to a sense of inferiorityesteem among young people. Secondly, peer pressure can have a negative impact on the behaviour of young people. For instance, if young people associate themselves with someone who is superior to them, they will be more likely to do bad actions such as smoking or drinking, which can lead to health problems such as obesity or heart problems, which can have an adverse effect on their overall health.\n",
      "However, there are also some drawbacks of peer pressure. One of the main drawbacks is that young people may not be able to distinguish which group is superior to and which is the same as. This is because young people are not able to distinguish whether the opposite or the similar person is the same or the same as the same person. As a consequence, young people may be influenced by others who are similar to them.\n",
      "In conclusion, the advantages and the disadvantages of young people being influenced by others are more than the disadvantages. Therefore, young people should be encouraged to learn how to distinguish which is the superior and which\n",
      "Generating essay for score: 8.0\n"
     ]
    },
    {
     "name": "stderr",
     "output_type": "stream",
     "text": [
      "The attention mask and the pad token id were not set. As a consequence, you may observe unexpected behavior. Please pass your input's `attention_mask` to obtain reliable results.\n",
      "Setting `pad_token_id` to `eos_token_id`:None for open-end generation.\n"
     ]
    },
    {
     "name": "stdout",
     "output_type": "stream",
     "text": [
      "Prompt: Young people are often influenced in their behaviours by others in the same age group. Some argue that peer pressure is important while others feel it has distinct disadvantages. Do the disadvantages of peer pressure outweigh the advantages? | Score: 8.0\n",
      "Essay: It is often argued that young people are influenced by others' behaviours in the same way as they are by others' peer pressure. In this essay, I will discuss why I believe this is not the case.\n",
      "\n",
      "There are several reasons why young people are affected by peer pressure. Firstly, young people are more likely to be influenced by external factors such as peer pressure and social media platforms. For example, when young people are exposed to inappropriate content on social media, they tend to share it with their friends and family. As a result, this leads to peer pressure among young people. Secondly, peer pressure can have a negative impact on young people's self-confidence and self-esteem. For instance, if young people feel insecure about their self-image, they may find it difficult to fit in with their peers. This can lead to low self-esteem and a lack of confidence in comparison to the other members of their peer group.\n",
      "On the other hand, there are some disadvantages to peer pressure. One of the demerits is that peer pressure can increase the rate of violence in young people. To be more specific, young people who are exposed to violence tend to be more violent than those who do not have a history of violence. This is because young people who have experienced violence tend to have a lower level of self-confidence compared to those who did not. Another demerit is that young people may be influenced by inappropriate content on their media platforms. When young people watch inappropriate content on media platforms, they may become addicted to it. As a consequence, this can lead to peer pressure\n",
      "Generating essay for score: 8.5\n"
     ]
    },
    {
     "name": "stderr",
     "output_type": "stream",
     "text": [
      "The attention mask and the pad token id were not set. As a consequence, you may observe unexpected behavior. Please pass your input's `attention_mask` to obtain reliable results.\n",
      "Setting `pad_token_id` to `eos_token_id`:None for open-end generation.\n"
     ]
    },
    {
     "name": "stdout",
     "output_type": "stream",
     "text": [
      "Prompt: Young people are often influenced in their behaviours by others in the same age group. Some argue that peer pressure is important while others feel it has distinct disadvantages. Do the disadvantages of peer pressure outweigh the advantages? | Score: 8.5\n",
      "Essay: It is often argued that young people are influenced by others' behaviours in the same way as they are by others' peer pressure. In this essay, I will discuss why I believe not.\n",
      "\n",
      "On the one hand, there are several reasons why peer pressure is a disadvantageous for young people. Firstly, young people may be affected by peer pressure because they do not have enough time to spend with their peers. For example, young people who are in their thirties are not able to spend time with their parents or friends. As a result, they may be influenced by peer pressure. Secondly, young people are more likely to be influenced by other people's behaviours. For instance, when young people are exposed to different types of peer pressure, they tend to mimic others' behaviours. This leads to a decrease in their ability to distinguish themselves from others and to differentiate themselves from other people in the society, which may lead to a lack of self-confidence and a lack of respect for other people in society, especially for young people who have been exposed to peer pressure for a long time and are not mature enough to understand the consequences of their actions.\n",
      "However, peer pressure is not the only negative effect of young people's behaviours on young people. It is also important for young people to be exposed to different kinds of peer pressure. When young people have a chance to meet new people and learn new things, they will be able to make new friends. Furthermore, young people can learn from others' behaviours and from other people's actions. This is because they will not only be able to distinguish themselves but also\n",
      "Generating essay for score: 9.0\n",
      "Prompt: Young people are often influenced in their behaviours by others in the same age group. Some argue that peer pressure is important while others feel it has distinct disadvantages. Do the disadvantages of peer pressure outweigh the advantages? | Score: 9.0\n",
      "Essay: In this day and age, peer pressure is considered as one of the most important factors affecting young people's behaviour. However, there are some drawbacks to this phenomenon. \n",
      "\n",
      "On the one hand, there are a number of reasons why young people are affected by peer pressure. Firstly, peer pressure can have a negative impact on their self-confidence. For example, when young people are worried about their career prospects, they tend to think that they can not be successful in their lives. As a result, they feel that they do not have enough time to focus on their studies. Secondly, peer pressure may have a detrimental effect on the mental health of young people. For instance, if young people are stressed, they may not be able to concentrate on their studies due to their lack of confidence.\n",
      "However, I believe that there are more advantages than disadvantages for young people. The main advantage is that peer pressure can improve their self-esteem. This is because peer pressure can increase their confidence and self-esteem, which can help them to succeed in their future. Moreover, young people are more likely to have a good relationship with their parents and teachers. When young people are exposed to peer pressure, they have more chances to develop their relationship with their families and teachers. As a consequence, they will have a better relationship with their friends and family members.\n",
      "In conclusion, peer pressure plays an important role in influencing young people's behaviours. However, it can have a number of disadvantages. I believe that the benefits of this phenomenon outweigh the disadvantages. Therefore, it is recommended that young people should be encouraged\n"
     ]
    }
   ],
   "source": [
    "import numpy as np\n",
    "sample_question = \"Young people are often influenced in their behaviours by others in the same age group. Some argue that peer pressure is important while others feel it has distinct disadvantages. Do the disadvantages of peer pressure outweigh the advantages?\"\n",
    "for i in np.arange(6, 9.5, 0.5):\n",
    "    print(f\"Generating essay for score: {i}\")\n",
    "    print(generate_ielts_essay(sample_question, str(i)))"
   ]
  },
  {
   "cell_type": "code",
   "execution_count": null,
   "id": "f7b7291c",
   "metadata": {},
   "outputs": [],
   "source": []
  }
 ],
 "metadata": {
  "kernelspec": {
   "display_name": "Python 3",
   "language": "python",
   "name": "python3"
  },
  "language_info": {
   "codemirror_mode": {
    "name": "ipython",
    "version": 3
   },
   "file_extension": ".py",
   "mimetype": "text/x-python",
   "name": "python",
   "nbconvert_exporter": "python",
   "pygments_lexer": "ipython3",
   "version": "3.11.5"
  }
 },
 "nbformat": 4,
 "nbformat_minor": 5
}
